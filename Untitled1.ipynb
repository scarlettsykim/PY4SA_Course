{
 "cells": [
  {
   "cell_type": "code",
   "execution_count": 3,
   "id": "2565fe5e-475a-4d4a-955f-b28eaae23a3c",
   "metadata": {},
   "outputs": [],
   "source": [
    "#Import all the libraries\n",
    "import numpy as np\n",
    "import pandas as pd\n",
    "import matplotlib.pyplot as plt\n",
    "%matplotlib inline\n",
    "import geopandas as gpd\n",
    "import contextily as ctx\n",
    "import rasterio as rio\n",
    "from rasterio import plot\n",
    "\n",
    "plt.rcParams['figure.figsize'] = [10, 8]"
   ]
  },
  {
   "cell_type": "code",
   "execution_count": 8,
   "id": "41f5f3b1-3fc0-48a4-bf13-d0ebe60e9e7a",
   "metadata": {},
   "outputs": [
    {
     "name": "stdout",
     "output_type": "stream",
     "text": [
      "Unexpected exception formatting exception. Falling back to standard exception\n"
     ]
    },
    {
     "name": "stderr",
     "output_type": "stream",
     "text": [
      "Traceback (most recent call last):\n",
      "  File \"fiona/ogrext.pyx\", line 136, in fiona.ogrext.gdal_open_vector\n",
      "  File \"fiona/_err.pyx\", line 291, in fiona._err.exc_wrap_pointer\n",
      "fiona._err.CPLE_OpenFailedError: AWI_SCOTLAND_ESRI/AWI_SCOTLAND.shp: No such file or directory\n",
      "\n",
      "During handling of the above exception, another exception occurred:\n",
      "\n",
      "Traceback (most recent call last):\n",
      "  File \"/Users/scarlettkim/miniconda3/envs/py4sa/lib/python3.10/site-packages/IPython/core/interactiveshell.py\", line 3460, in run_code\n",
      "    exec(code_obj, self.user_global_ns, self.user_ns)\n",
      "  File \"/var/folders/63/xfbzx81x16j10wkjd03zzz080000gn/T/ipykernel_34316/835131130.py\", line 2, in <module>\n",
      "    woodland_inv = gpd.read_file('AWI_SCOTLAND_ESRI/AWI_SCOTLAND.shp')\n",
      "  File \"/Users/scarlettkim/miniconda3/envs/py4sa/lib/python3.10/site-packages/geopandas/io/file.py\", line 259, in _read_file\n",
      "    return _read_file_fiona(\n",
      "  File \"/Users/scarlettkim/miniconda3/envs/py4sa/lib/python3.10/site-packages/geopandas/io/file.py\", line 303, in _read_file_fiona\n",
      "    with reader(path_or_bytes, **kwargs) as features:\n",
      "  File \"/Users/scarlettkim/miniconda3/envs/py4sa/lib/python3.10/site-packages/fiona/env.py\", line 457, in wrapper\n",
      "    return f(*args, **kwds)\n",
      "  File \"/Users/scarlettkim/miniconda3/envs/py4sa/lib/python3.10/site-packages/fiona/__init__.py\", line 335, in open\n",
      "    colxn = Collection(\n",
      "  File \"/Users/scarlettkim/miniconda3/envs/py4sa/lib/python3.10/site-packages/fiona/collection.py\", line 234, in __init__\n",
      "    self.session.start(self, **kwargs)\n",
      "  File \"fiona/ogrext.pyx\", line 587, in fiona.ogrext.Session.start\n",
      "  File \"fiona/ogrext.pyx\", line 143, in fiona.ogrext.gdal_open_vector\n",
      "fiona.errors.DriverError: AWI_SCOTLAND_ESRI/AWI_SCOTLAND.shp: No such file or directory\n",
      "\n",
      "During handling of the above exception, another exception occurred:\n",
      "\n",
      "Traceback (most recent call last):\n",
      "  File \"/Users/scarlettkim/miniconda3/envs/py4sa/lib/python3.10/site-packages/IPython/core/interactiveshell.py\", line 2057, in showtraceback\n",
      "    stb = self.InteractiveTB.structured_traceback(\n",
      "  File \"/Users/scarlettkim/miniconda3/envs/py4sa/lib/python3.10/site-packages/IPython/core/ultratb.py\", line 1288, in structured_traceback\n",
      "    return FormattedTB.structured_traceback(\n",
      "  File \"/Users/scarlettkim/miniconda3/envs/py4sa/lib/python3.10/site-packages/IPython/core/ultratb.py\", line 1177, in structured_traceback\n",
      "    return VerboseTB.structured_traceback(\n",
      "  File \"/Users/scarlettkim/miniconda3/envs/py4sa/lib/python3.10/site-packages/IPython/core/ultratb.py\", line 1049, in structured_traceback\n",
      "    formatted_exceptions += self.format_exception_as_a_whole(etype, evalue, etb, lines_of_context,\n",
      "  File \"/Users/scarlettkim/miniconda3/envs/py4sa/lib/python3.10/site-packages/IPython/core/ultratb.py\", line 935, in format_exception_as_a_whole\n",
      "    self.get_records(etb, number_of_lines_of_context, tb_offset) if etb else []\n",
      "  File \"/Users/scarlettkim/miniconda3/envs/py4sa/lib/python3.10/site-packages/IPython/core/ultratb.py\", line 1003, in get_records\n",
      "    lines, first = inspect.getsourcelines(etb.tb_frame)\n",
      "  File \"/Users/scarlettkim/miniconda3/envs/py4sa/lib/python3.10/inspect.py\", line 1129, in getsourcelines\n",
      "    lines, lnum = findsource(object)\n",
      "  File \"/Users/scarlettkim/miniconda3/envs/py4sa/lib/python3.10/inspect.py\", line 958, in findsource\n",
      "    raise OSError('could not get source code')\n",
      "OSError: could not get source code\n"
     ]
    }
   ],
   "source": [
    "#Import dataset as geopandas dataframe\n",
    "woodland_inv = gpd.read_file('AWI_SCOTLAND_ESRI/AWI_SCOTLAND.shp')\n",
    "woodland_inv.plot() #Display the data"
   ]
  },
  {
   "cell_type": "code",
   "execution_count": null,
   "id": "f89cbe5c-d482-4595-bc1c-f213fd1e7aec",
   "metadata": {},
   "outputs": [],
   "source": []
  }
 ],
 "metadata": {
  "kernelspec": {
   "display_name": "Python 3 (ipykernel)",
   "language": "python",
   "name": "python3"
  },
  "language_info": {
   "codemirror_mode": {
    "name": "ipython",
    "version": 3
   },
   "file_extension": ".py",
   "mimetype": "text/x-python",
   "name": "python",
   "nbconvert_exporter": "python",
   "pygments_lexer": "ipython3",
   "version": "3.10.9"
  }
 },
 "nbformat": 4,
 "nbformat_minor": 5
}
